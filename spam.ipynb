{
 "cells": [
  {
   "metadata": {},
   "cell_type": "markdown",
   "source": [
    "# Email Spam Detection using Supervised Learning\n",
    "Austin Townsend\n",
    "\n",
    "January 2025\n",
    "\n",
    "CU Boulder\n",
    "\n",
    "## Project Overview\n",
    "\n",
    "### Project Topic\n",
    "This project focuses on developing an automated email spam detection system using supervised machine learning techniques. We will implement and compare two different classification algorithms, specifically Random Forest and Support Vector Machine (SVM), to classify emails as either spam or legitimate (ham) based on their text content. This represents a clear classification problem in the realm of supervised learning.\n",
    "\n",
    "The system will learn from a labeled dataset of emails obtained from Kaggle, where each email is already marked as either spam or ham. This is a supervised learning problem because the data is already labeled for us. By analyzing patterns in the text of known spam and ham emails, our models will learn to identify characteristics that distinguish between the two categories.\n",
    "\n",
    "### Project Goals and Importance\n",
    "Email remains one of the most crucial tools for digital communication, especially in business settings, but there is a growing distrust of emails and businesses are constantly fighting to filter spam emails. According to Statista, nearly half of all emails worldwide are spam, creating a significant barrier to effective communication and eroding user trust in email systems. This flood of unwanted messages not only wastes time and resources but also poses security risks through phishing attempts and malicious content.\n",
    "\n",
    "Through this project, I aim to address this challenge by developing an effective spam detection system. By comparing Random Forest and SVM classifiers, I hope to identify reliable approaches for automatically filtering unwanted emails. This work will contribute to the broader effort of making email a more reliable and trustworthy communication medium."
   ],
   "id": "b227e7e26112c54"
  },
  {
   "metadata": {},
   "cell_type": "markdown",
   "source": [
    "## The Data\n",
    "\n",
    "The dataset consists of 5,157 unique email messages with their corresponding classifications. I sourced this data from Kaggle.\n",
    "\n",
    "### Citation\n",
    "Ibrahim, A. W. (2023). Spam Emails [Dataset]. Kaggle. Retrieved from https://www.kaggle.com/datasets/abdallahwagih/spam-emails\n",
    "\n",
    "### Data Structure\n",
    "- Number of samples (rows): 5,157\n",
    "- Number of features (columns): 2\n",
    "- Data size: 480.13kb\n",
    "\n",
    "### Features\n",
    "1. Message (Text data):\n",
    "   - Contains the full email content including subject and body\n",
    "   - Unstructured text data with varying lengths\n",
    "   - Contains mixed content (words, numbers, special characters)\n",
    "\n",
    "2. Category (Categorical data):\n",
    "   - Binary classification: \"Spam\" or \"Ham\" (Non-Spam)\n",
    "   - Class distribution:\n",
    "     * Ham: 87% (approximately 4,487 samples)\n",
    "     * Spam: 13% (approximately 670 samples)\n",
    "   - Notable class imbalance that will need to be addressed in our modeling approach\n",
    "\n",
    "### Data Characteristics\n",
    "- The dataset is structured in a single table format\n",
    "- Text data is in English language\n",
    "- No missing values in either column\n",
    "- Clear class imbalance present (87/13 split)\n",
    "- Raw text data will require preprocessing before model training\n",
    "\n"
   ],
   "id": "197b546572b1bca5"
  },
  {
   "metadata": {},
   "cell_type": "markdown",
   "source": [
    "## Data Cleaning\n",
    "\n",
    "Let's start by loading some core libraries and data, and examine what cleaning steps we may be able to take on the data."
   ],
   "id": "1b85a87040b8b997"
  },
  {
   "metadata": {
    "ExecuteTime": {
     "end_time": "2025-01-29T02:55:33.218033Z",
     "start_time": "2025-01-29T02:55:33.198376Z"
    }
   },
   "cell_type": "code",
   "source": [
    "import pandas as pd\n",
    "import numpy as np\n",
    "from sklearn.feature_extraction.text import CountVectorizer\n",
    "import matplotlib.pyplot as plt\n",
    "\n",
    "# read the data into a file variable\n",
    "df = pd.read_csv('spam.csv')\n",
    "\n",
    "print(\"Dataset shape:\", df.shape)\n",
    "print(\"\\nMissing values:\")\n",
    "print(df.isnull().sum())\n",
    "print(\"\\nFirst few rows:\")\n",
    "print(df.head())"
   ],
   "id": "ba8dc3e66aa70967",
   "outputs": [
    {
     "name": "stdout",
     "output_type": "stream",
     "text": [
      "Dataset shape: (5572, 2)\n",
      "\n",
      "Missing values:\n",
      "Category    0\n",
      "Message     0\n",
      "dtype: int64\n",
      "\n",
      "First few rows:\n",
      "  Category                                            Message\n",
      "0      ham  Go until jurong point, crazy.. Available only ...\n",
      "1      ham                      Ok lar... Joking wif u oni...\n",
      "2     spam  Free entry in 2 a wkly comp to win FA Cup fina...\n",
      "3      ham  U dun say so early hor... U c already then say...\n",
      "4      ham  Nah I don't think he goes to usf, he lives aro...\n"
     ]
    }
   ],
   "execution_count": 2
  },
  {
   "metadata": {},
   "cell_type": "markdown",
   "source": [
    "### Initial Results\n",
    "\n",
    "So far we can see that our data contains 5,572 emails with no missing values. I'm going to continue by performing some basic cleaning steps, outlined below.\n",
    "\n",
    "1. Remove any duplicate messages\n",
    "2. Clean the text data by:\n",
    "   - Converting to lowercase (to reduce dimensionality)\n",
    "   - Removing special characters and extra whitespace\n",
    "3. Verify the cleaning results\n"
   ],
   "id": "8bb7fec9fc7ba9cc"
  },
  {
   "metadata": {
    "ExecuteTime": {
     "end_time": "2025-01-29T03:05:16.246122Z",
     "start_time": "2025-01-29T03:05:16.233651Z"
    }
   },
   "cell_type": "code",
   "source": [
    "# removing duplicates\n",
    "print(\"Original number of rows:\", len(df))\n",
    "print(\"Number of duplicates:\", df.duplicated().sum())\n",
    "\n",
    "df = df.drop_duplicates()\n",
    "print(\"\\nNumber of rows after removing duplicates:\", len(df))"
   ],
   "id": "e05e2dbc697aa39",
   "outputs": [
    {
     "name": "stdout",
     "output_type": "stream",
     "text": [
      "Original number of rows: 5157\n",
      "Number of duplicates: 0\n",
      "\n",
      "Number of rows after removing duplicates: 5157\n"
     ]
    }
   ],
   "execution_count": 5
  },
  {
   "metadata": {},
   "cell_type": "markdown",
   "source": [
    "### Duplication Removal Results\n",
    "\n",
    "After removing duplicates we can see that we were able to remove 415 rows. Let's continue by cleaning the remaining text data."
   ],
   "id": "f8fd0566a73d7adc"
  },
  {
   "metadata": {
    "ExecuteTime": {
     "end_time": "2025-01-29T03:10:27.730928Z",
     "start_time": "2025-01-29T03:10:27.716845Z"
    }
   },
   "cell_type": "code",
   "source": [
    "# basic text cleaning\n",
    "def clean_text(text):\n",
    "    text = text.lower()\n",
    "    text = ' '.join(text.split())\n",
    "    return text\n",
    "\n",
    "# cleaning the message column\n",
    "print(\"Cleaning text data...\")\n",
    "df['Message_Clean'] = df['Message'].apply(clean_text)\n",
    "\n",
    "# before after for analysis\n",
    "print(\"\\nExample of cleaning results:\")\n",
    "print(\"Original:\", df['Message'].iloc[0])\n",
    "print(\"Cleaned:\", df['Message_Clean'].iloc[0])\n",
    "\n",
    "# report final number of samples (should be the same as above, 5157)\n",
    "n_samples = len(df)\n",
    "print(f\"\\nFinal number of samples: {n_samples}\")"
   ],
   "id": "dcd9c27730ed94dc",
   "outputs": [
    {
     "name": "stdout",
     "output_type": "stream",
     "text": [
      "Cleaning text data...\n",
      "\n",
      "Example of cleaning results:\n",
      "Original: Go until jurong point, crazy.. Available only in bugis n great world la e buffet... Cine there got amore wat...\n",
      "Cleaned: go until jurong point, crazy.. available only in bugis n great world la e buffet... cine there got amore wat...\n",
      "\n",
      "Final number of samples: 5157\n"
     ]
    }
   ],
   "execution_count": 7
  },
  {
   "metadata": {},
   "cell_type": "markdown",
   "source": "### Visualize Class Distribution After Cleaning",
   "id": "a1e90c3eeb75c4bb"
  },
  {
   "metadata": {
    "ExecuteTime": {
     "end_time": "2025-01-29T03:19:17.438901Z",
     "start_time": "2025-01-29T03:19:17.376399Z"
    }
   },
   "cell_type": "code",
   "source": [
    "plt.figure(figsize=(10, 5))\n",
    "class_counts = df['Category'].value_counts()\n",
    "plt.bar(class_counts.index, class_counts.values)\n",
    "plt.title('Distribution of Email Categories After Cleaning')\n",
    "plt.xlabel('Category')\n",
    "plt.ylabel('Number of Emails')\n",
    "for i, v in enumerate(class_counts.values):\n",
    "    plt.text(i, v, str(v), ha='center')\n",
    "plt.show()\n",
    "\n",
    "spam_percent = (class_counts['spam'] / len(df)) * 100\n",
    "ham_percent = (class_counts['ham'] / len(df)) * 100\n",
    "print(f\"Spam percentage: {spam_percent:.2f}%\")\n",
    "print(f\"Ham percentage: {ham_percent:.2f}%\")"
   ],
   "id": "6c57c75fd9ed8448",
   "outputs": [
    {
     "data": {
      "text/plain": [
       "<Figure size 1000x500 with 1 Axes>"
      ],
      "image/png": "[encoded data removed]"
     },
     "metadata": {},
     "output_type": "display_data"
    },
    {
     "name": "stdout",
     "output_type": "stream",
     "text": [
      "Spam percentage: 12.43%\n",
      "Ham percentage: 87.57%\n"
     ]
    }
   ],
   "execution_count": 10
  },
  {
   "metadata": {},
   "cell_type": "markdown",
   "source": [
    "### Data Cleaning Summary\n",
    "\n",
    "The following cleaning steps were performed on the dataset:\n",
    "\n",
    "1. **Duplicate Removal**\n",
    "   - Found and removed 415 duplicate entries\n",
    "   - Reduced dataset from 5,572 to 5,157 samples\n",
    "   - Rationale: Duplicates could bias our model and leak information between train/test sets\n",
    "\n",
    "2. **Text Cleaning**\n",
    "   - Converted all text to lowercase for consistency\n",
    "   - Removed extra whitespace to standardize formatting\n",
    "   - Created 'Message_Clean' column to preserve original data\n",
    "   - Rationale: Standardization helps ensure consistent feature extraction\n",
    "\n",
    "**Key Findings**\n",
    "- Final dataset contains 5,157 unique emails\n",
    "- Class distribution:\n",
    "  * Ham: 87.57%\n",
    "  * Spam: 12.43%\n",
    "- Notable class imbalance will need to be addressed during modeling\n",
    "\n",
    "**Analysis Strategy**\n",
    "\n",
    "Based on our cleaning results, we will need to:\n",
    "1. Use text vectorization techniques on our cleaned messages\n",
    "2. Consider techniques to handle class imbalance during model training\n",
    "3. Ensure our train/test split preserves the class distribution"
   ],
   "id": "dfead614fc633496"
  },
  {
   "metadata": {},
   "cell_type": "markdown",
   "source": "## Exploratory Data Analysis",
   "id": "82c78568f140d0ba"
  },
  {
   "metadata": {},
   "cell_type": "code",
   "outputs": [],
   "execution_count": null,
   "source": "",
   "id": "f7ca32c2e4dd5f3c"
  }
 ],
 "metadata": {
  "kernelspec": {
   "display_name": "Python 3",
   "language": "python",
   "name": "python3"
  },
  "language_info": {
   "codemirror_mode": {
    "name": "ipython",
    "version": 2
   },
   "file_extension": ".py",
   "mimetype": "text/x-python",
   "name": "python",
   "nbconvert_exporter": "python",
   "pygments_lexer": "ipython2",
   "version": "2.7.6"
  }
 },
 "nbformat": 4,
 "nbformat_minor": 5
}
